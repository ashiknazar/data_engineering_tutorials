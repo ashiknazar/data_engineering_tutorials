{
 "cells": [
  {
   "cell_type": "markdown",
   "metadata": {},
   "source": [
    "- a typical usecase where data pipeline run at 10 am daily\n",
    "\n"
   ]
  },
  {
   "cell_type": "markdown",
   "metadata": {},
   "source": [
    "![](images/pipeline.png)"
   ]
  },
  {
   "cell_type": "markdown",
   "metadata": {},
   "source": [
    "- orchestrator\n",
    "- platform to programmatically author,schedule,and monitor workflows.\n",
    "- opensource,dynamic(since in python can take input arguments unlike xml),scalability,ui(cron dont have),extensibility\n"
   ]
  },
  {
   "cell_type": "markdown",
   "metadata": {},
   "source": [
    "#### core components\n",
    "- webserver  (ui)\n",
    "- scheduler\n",
    "- meta store\n",
    "- triggered\n",
    "- executer\n",
    "- queue\n",
    "- worker\n"
   ]
  },
  {
   "cell_type": "markdown",
   "metadata": {},
   "source": [
    " ![](images/dag.png)"
   ]
  },
  {
   "cell_type": "markdown",
   "metadata": {},
   "source": [
    "- dag ->  a graph with no cycles - >directed\n",
    "- operators\n",
    "    -  it encapsulates what you want to do in your task\n",
    "    - `db=connect(host,credentials)`<br> `db.insert(sql_request)`\n",
    "    - task is a piece of job to achieve\n",
    "       - E,T,L\n",
    "   \n",
    "\n"
   ]
  },
  {
   "cell_type": "markdown",
   "metadata": {},
   "source": [
    "##### operators\n",
    "- Action operators,Transfer operator, Sensor Operators\n",
    "    - Action operator: helps to do executions(python/bash execution)\n",
    "    - Transfer operator: to transfer data (one sql database to another)\n",
    "    - Sensor operator: helps to wait for something to happen\n",
    "    \n"
   ]
  },
  {
   "cell_type": "markdown",
   "metadata": {},
   "source": [
    "##### Task /task instance\n",
    "- any operator in a running state is called a task /task instance\n"
   ]
  },
  {
   "cell_type": "markdown",
   "metadata": {},
   "source": [
    "- A DAG is a collection of operators which are in running state"
   ]
  },
  {
   "cell_type": "markdown",
   "metadata": {},
   "source": [
    "##### what airflow is  not\n",
    " - not a data streaming solution / data processing framework\n",
    " "
   ]
  },
  {
   "cell_type": "markdown",
   "metadata": {},
   "source": []
  }
 ],
 "metadata": {
  "language_info": {
   "name": "python"
  }
 },
 "nbformat": 4,
 "nbformat_minor": 2
}
