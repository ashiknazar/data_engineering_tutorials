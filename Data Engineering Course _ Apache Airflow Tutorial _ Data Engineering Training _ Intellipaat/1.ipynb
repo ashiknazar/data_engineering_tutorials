{
 "cells": [
  {
   "cell_type": "code",
   "execution_count": null,
   "metadata": {
    "vscode": {
     "languageId": "plaintext"
    }
   },
   "outputs": [],
   "source": []
  },
  {
   "cell_type": "markdown",
   "metadata": {},
   "source": [
    "#### <u>cron</u>\n",
    "##### scheduler:\n",
    "- scheduling tasks\n",
    "- dicreases manual error,optimizes time to improve productivity ,promotes control and efficiency,fast response\n",
    "##### cron\n",
    "- cron command line utility is a job scheduler on unix like operating system,\n",
    "- more easy to control\n",
    "- not occupying memory in your system when it is not running\n",
    "- if fails and exits,starts after a proper time\n",
    "- advantages of  infinite loop\n",
    "- even system is off ,it runs still server is not shutdown"
   ]
  },
  {
   "cell_type": "markdown",
   "metadata": {
    "vscode": {
     "languageId": "plaintext"
    }
   },
   "source": [
    "##### cron syntax\n",
    "\n",
    "- `A B C D E | USERNAME | path to command | arg1 arg2`\n",
    "- A ->minute range , B-> hours range C->Day range D-> month range E-> week range\n"
   ]
  },
  {
   "cell_type": "markdown",
   "metadata": {},
   "source": [
    "- can use cron expression generator \n",
    "   - cronhub\n"
   ]
  },
  {
   "cell_type": "markdown",
   "metadata": {},
   "source": [
    "##### commands used in linux terminal\n",
    "- ls \n",
    "- ls -a  (showing all including hidden files)\n",
    "- ls -lrt (list all files(-rw..) and folders(dr..)).\n",
    "- pwd,cd ..,mkdir ,\n",
    "- creating files\n",
    "   - cat ,touch(create empty file)\n",
    "   - cat > demo.txt  <br>\n",
    "     write content ctrl+c\n",
    "       - '>' is assignment operator\n",
    "- rm file.txt (deletes file)"
   ]
  },
  {
   "cell_type": "markdown",
   "metadata": {},
   "source": [
    "- vi demo.sh  (vi is an editor)\n",
    "    -  pressing escape -> shift to normal mode , pressing i makes it insert mode ,then we can type\n",
    "    - :wq to write and quit\n",
    "    - :wq!  ->   ! for override"
   ]
  },
  {
   "cell_type": "markdown",
   "metadata": {},
   "source": [
    "- .sh files is a shell script.\n",
    "- are plain text containing command written for the shell(bash,zsh etc)\n",
    "- to execute script files\n",
    "    -  `bash script.sh`\n",
    "    - `sh script.sh`\n",
    "- `echo \" combining string and variable by $(pwd)\"`\n",
    "- ` echo \"for dat$(date)\"`  \n",
    "    "
   ]
  },
  {
   "cell_type": "markdown",
   "metadata": {},
   "source": [
    "- similar to logging is done by\n",
    "   - `bash file.sh > info.txt` overrides\n",
    "   - `bash file.sh >> info.txt` appends "
   ]
  },
  {
   "cell_type": "markdown",
   "metadata": {},
   "source": [
    "___"
   ]
  },
  {
   "cell_type": "markdown",
   "metadata": {},
   "source": [
    "- `corntab -e`"
   ]
  },
  {
   "cell_type": "markdown",
   "metadata": {},
   "source": []
  }
 ],
 "metadata": {
  "language_info": {
   "name": "python"
  }
 },
 "nbformat": 4,
 "nbformat_minor": 2
}
